{
 "cells": [
  {
   "cell_type": "markdown",
   "metadata": {},
   "source": [
    "### This notebook will be utilized for the capstone project for the IBM Data Science Professional Certification. The following is a report for \"The Battle of Neighborhoods\" by Alexa Lodise."
   ]
  },
  {
   "cell_type": "markdown",
   "metadata": {},
   "source": [
    "# Introduction/Business Problem"
   ]
  },
  {
   "cell_type": "markdown",
   "metadata": {},
   "source": [
    "### Breweries have become a popular choice for where people in the cities hang out after work and on the weekends. That being said, in the right city, opening a brewery can be a lucrative business. However, it is difficult to tell what city and where in the city to open one. Using data analysis and clustering, I will determine whether someone should open their new brewery in Toronto or New York City as well as where in the resulting city they should open it. "
   ]
  },
  {
   "cell_type": "markdown",
   "metadata": {},
   "source": [
    "# Data"
   ]
  },
  {
   "cell_type": "markdown",
   "metadata": {},
   "source": [
    "### In order to solve this problem, I will need to gather coordinates for various neighborhoods in both New York City and Toronto. The New York City data is from NYU and the Toronto data is from Wikipedia. Once this data is converted into clean dataframes, Foursquare will be utilized to find where breweries are in each city. I will choose the city based on which one has the least amount of breweries. Once the city is picked, I will determine which neighborhood has the least amount of breweries using clustering and will then recommend that area for a new business."
   ]
  },
  {
   "cell_type": "code",
   "execution_count": null,
   "metadata": {},
   "outputs": [],
   "source": []
  }
 ],
 "metadata": {
  "kernelspec": {
   "display_name": "Python 3",
   "language": "python",
   "name": "python3"
  },
  "language_info": {
   "codemirror_mode": {
    "name": "ipython",
    "version": 3
   },
   "file_extension": ".py",
   "mimetype": "text/x-python",
   "name": "python",
   "nbconvert_exporter": "python",
   "pygments_lexer": "ipython3",
   "version": "3.6.8"
  }
 },
 "nbformat": 4,
 "nbformat_minor": 2
}
